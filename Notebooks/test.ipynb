{
 "cells": [
  {
   "cell_type": "code",
   "execution_count": 1,
   "metadata": {},
   "outputs": [],
   "source": [
    "import os\n",
    "os.chdir('/Users/mac/Desktop/Work Space/Safe PM 2')"
   ]
  },
  {
   "cell_type": "code",
   "execution_count": 2,
   "metadata": {},
   "outputs": [],
   "source": [
    "from datamanager import DataManager\n",
    "from trainer import Trainer\n",
    "from tester import Tester\n",
    "from viz import Viz\n",
    "\n",
    "import numpy as np\n",
    "import torch\n",
    "import utils"
   ]
  },
  {
   "cell_type": "code",
   "execution_count": 3,
   "metadata": {},
   "outputs": [],
   "source": [
    "np.random.seed(1)\n",
    "torch.manual_seed(1)\n",
    "utils.SAVE_DIR += f\"/seed{1}\"\n",
    "\n",
    "train_start = \"2014-01-02\"\n",
    "train_end = \"2019-12-31\"\n",
    "test_start = \"2020-01-02\"\n",
    "test_end = \"2021-12-31\"\n",
    "\n",
    "paths = [\"Data/\" + s for s in [\"INCY\", \"REGN\"]]\n",
    "datamanager = DataManager(paths, train_start, train_end, test_start, test_end)\n",
    "train_data_tensor, test_data_tensor = datamanager.get_data_tensor()\n",
    "\n",
    "K = train_data_tensor.shape[2]\n",
    "F = train_data_tensor.shape[1]-1"
   ]
  },
  {
   "cell_type": "code",
   "execution_count": 14,
   "metadata": {},
   "outputs": [],
   "source": [
    "parameters = {\n",
    "            \"lr1\":1e-4, \n",
    "            \"lr2\":1e-3, \n",
    "            \"tau\":0.005, \n",
    "            \"delta\":0., \n",
    "            \"alpha\":0.5,\n",
    "            \"gamma\":0.9,\n",
    "            \"K\":K, \"F\":F, \n",
    "            \"fee\":0.0, \n",
    "            \"term\":20,\n",
    "            \"freq\":500,\n",
    "            \"cons\":True,\n",
    "            \"balance\":12000, \n",
    "            \"episode\":1,\n",
    "            \"min_trading_price\":0,\n",
    "            \"max_trading_price\":400,\n",
    "            \"batch_size\":128,\n",
    "            \"memory_size\":10000\n",
    "            }"
   ]
  },
  {
   "cell_type": "code",
   "execution_count": null,
   "metadata": {},
   "outputs": [],
   "source": [
    "trainer = Trainer(**parameters, data=train_data_tensor)\n",
    "trainer.train()\n",
    "trainer.save_model(utils.SAVE_DIR + \"/net.pth\")"
   ]
  },
  {
   "cell_type": "code",
   "execution_count": 7,
   "metadata": {},
   "outputs": [],
   "source": [
    "datamanager.paths = [\"Data/\" + s for s in [\"AAPL\", \"COST\"]]\n",
    "train_data_tensor2, test_data_tensor2 = datamanager.get_data_tensor()"
   ]
  },
  {
   "cell_type": "code",
   "execution_count": 11,
   "metadata": {},
   "outputs": [],
   "source": [
    "tester = Tester(**parameters, data=test_data_tensor2)\n",
    "tester.test()"
   ]
  },
  {
   "cell_type": "code",
   "execution_count": null,
   "metadata": {},
   "outputs": [],
   "source": [
    "viz = Viz()\n",
    "viz.show(1,1, size=(20,8))"
   ]
  }
 ],
 "metadata": {
  "kernelspec": {
   "display_name": "trader2",
   "language": "python",
   "name": "python3"
  },
  "language_info": {
   "codemirror_mode": {
    "name": "ipython",
    "version": 3
   },
   "file_extension": ".py",
   "mimetype": "text/x-python",
   "name": "python",
   "nbconvert_exporter": "python",
   "pygments_lexer": "ipython3",
   "version": "3.9.7"
  },
  "orig_nbformat": 4,
  "vscode": {
   "interpreter": {
    "hash": "29be89daf952741e3c43ff064676e00aa8ac4c4ae84321cbe394240a42bc8712"
   }
  }
 },
 "nbformat": 4,
 "nbformat_minor": 2
}
